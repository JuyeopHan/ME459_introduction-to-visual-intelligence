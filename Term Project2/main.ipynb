{
 "cells": [
  {
   "cell_type": "code",
   "execution_count": 1,
   "metadata": {},
   "outputs": [],
   "source": [
    "#Libraries\n",
    "import numpy as np\n",
    "import natsort\n",
    "import cv2 as cv\n",
    "import matplotlib.pyplot as plt\n",
    "import copy as copy\n",
    "import math\n",
    "import os\n",
    "import functions as ftn\n",
    "import imageio\n",
    "import scipy.ndimage\n",
    "import disparity_functions as disp"
   ]
  },
  {
   "cell_type": "markdown",
   "metadata": {},
   "source": [
    "PARAMETERS"
   ]
  },
  {
   "cell_type": "code",
   "execution_count": 2,
   "metadata": {},
   "outputs": [],
   "source": [
    "FOV = 110 # degree\n",
    "height = 640\n",
    "width = 640\n",
    "K = np.array([[2.240664122271071506e+02, 0.000000000000000000e+00, 3.200000000000000000e+02],\n",
    "            [0.000000000000000000e+00, 2.240664122271071506e+02, 3.200000000000000000e+02],\n",
    "            [0.000000000000000000e+00, 0.000000000000000000e+00, 1.000000000000000000e+00]])\n",
    "\n",
    "f_x = K[0,0]\n",
    "f_y = K[1,1]\n",
    "r = K[0,2]\n",
    "s = K[1,2]\n",
    "B = 0.3\n",
    "K_inv = np.linalg.inv(K)\n",
    "\n",
    "# Parameters\n",
    "num_disp_values=255\n",
    "Lambda=10.0\n",
    "nb_iterations=15"
   ]
  },
  {
   "cell_type": "markdown",
   "metadata": {},
   "source": [
    "1. LOAD IMAGES"
   ]
  },
  {
   "cell_type": "code",
   "execution_count": 3,
   "metadata": {},
   "outputs": [
    {
     "name": "stdout",
     "output_type": "stream",
     "text": [
      "['00000_ref.png', '00000_tar.png', '00001_ref.png', '00001_tar.png', '00002_ref.png', '00002_tar.png', '00003_ref.png', '00003_tar.png', '00004_ref.png', '00004_tar.png', '00005_ref.png', '00005_tar.png', '00006_ref.png', '00006_tar.png', '00007_ref.png', '00007_tar.png', '00008_ref.png', '00008_tar.png', '00009_ref.png', '00009_tar.png', '00010_ref.png', '00010_tar.png', '00011_ref.png', '00011_tar.png', '00012_ref.png', '00012_tar.png', '00013_ref.png', '00013_tar.png', '00014_ref.png', '00014_tar.png', '00015_ref.png', '00015_tar.png', '00016_ref.png', '00016_tar.png', '00017_ref.png', '00017_tar.png', '00018_ref.png', '00018_tar.png', '00019_ref.png', '00019_tar.png', '00020_ref.png', '00020_tar.png']\n"
     ]
    }
   ],
   "source": [
    "# recall color and gray images and mask\n",
    "\n",
    "path = './StereoImages/'\n",
    "order_list = os.listdir(path)\n",
    "after_order_list = natsort.natsorted(order_list)\n",
    "print(after_order_list)\n",
    "# left and right color images \n",
    "colors_left_list = []\n",
    "colors_right_list = []\n",
    "\n",
    "# left and right gray images\n",
    "grays_left_list = []\n",
    "grays_right_list = []\n",
    "\n",
    "for root, directions, files in os.walk(path):\n",
    "    \n",
    "    for file in after_order_list:\n",
    "        img = cv.imread(os.path.join(root, file))\n",
    "        gray = cv.cvtColor(img, cv.COLOR_BGR2GRAY)\n",
    "        \n",
    "        if 'ref.png' in file:  \n",
    "            colors_left_list.append(img)\n",
    "            grays_left_list.append(gray)\n",
    "        \n",
    "        if 'tar.png' in file:\n",
    "            colors_right_list.append(img)\n",
    "            grays_right_list.append(gray)\n"
   ]
  },
  {
   "cell_type": "markdown",
   "metadata": {},
   "source": [
    "2. FEATURE DETECTION"
   ]
  },
  {
   "cell_type": "code",
   "execution_count": 4,
   "metadata": {},
   "outputs": [],
   "source": [
    "raw_key_pts_list = [] # raw key point list for each left image\n",
    "descriptors_list = [] # descriptor list for each left image\n",
    "\n",
    "#detector = cv.BRISK_create()\n",
    "detector = cv.ORB_create()\n",
    "for i in range(21):\n",
    "    \n",
    "    raw_key_pts, descriptors = detector.detectAndCompute(grays_left_list[i], None)\n",
    "    raw_key_pts = np.float32([key_pt.pt for key_pt in raw_key_pts])\n",
    "    raw_key_pts_list.append(raw_key_pts)\n",
    "    descriptors_list.append(descriptors)\n"
   ]
  },
  {
   "cell_type": "markdown",
   "metadata": {},
   "source": [
    "3. FIND DIFFERENCE ANGLE BETWEEN A PAIR OF IMAGES "
   ]
  },
  {
   "cell_type": "code",
   "execution_count": 5,
   "metadata": {},
   "outputs": [
    {
     "name": "stdout",
     "output_type": "stream",
     "text": [
      "359.92795\n"
     ]
    }
   ],
   "source": [
    "rot_angle_list = []\n",
    "sum = 0\n",
    "for i in range(20):\n",
    "    # a. find right features\n",
    "    key_pts1, key_pts2, matches = ftn.findRightFeatures(raw_key_pts_list[i], raw_key_pts_list[i+1], descriptors_list[i], descriptors_list[i+1])\n",
    "    \n",
    "    #print('%d, %d' % (len(key_pts1), len(key_pts2)))\n",
    "    key_pts1 = ftn.homoPixel2Camera(key_pts1, K_inv)\n",
    "    key_pts2 = ftn.homoPixel2Camera(key_pts2, K_inv)\n",
    "    \n",
    "    key_pts1_cylinder = ftn.transformHomo2Cylinder(key_pts1)\n",
    "    key_pts2_cylinder = ftn.transformHomo2Cylinder(key_pts2)\n",
    "    # b. find homogeneous coord in real space    \n",
    "    \n",
    "    theta = np.degrees(np.mean(key_pts2_cylinder[:,0] - key_pts1_cylinder[:,0]))\n",
    "    rot_angle_list.append(theta)\n",
    "\n",
    "print(np.sum(np.float32(rot_angle_list)))\n",
    "rot_angle_list.insert(0,0)\n",
    "\n",
    "rot_angle_list = 360/np.sum(rot_angle_list)*np.float32(rot_angle_list)\n",
    "\n",
    "    \n"
   ]
  },
  {
   "cell_type": "markdown",
   "metadata": {},
   "source": [
    "4. OMNIDIRECTIONAL IMAGE RESTORATION"
   ]
  },
  {
   "cell_type": "code",
   "execution_count": 6,
   "metadata": {},
   "outputs": [
    {
     "data": {
      "text/plain": [
       "True"
      ]
     },
     "execution_count": 6,
     "metadata": {},
     "output_type": "execute_result"
    }
   ],
   "source": [
    "colors_cylinder = []\n",
    "factor = 4\n",
    "width = factor*470\n",
    "height = 640\n",
    "angle = 0\n",
    "# generate mask\n",
    "mask = 255 * np.uint8(np.ones((640, 640)))\n",
    "mask = ftn.cylindricalWarp(mask, K)\n",
    "mask = cv.cvtColor(mask, cv.COLOR_BGR2GRAY)\n",
    "ret, mask = cv.threshold(mask, 254, 255, cv.THRESH_BINARY)\n",
    "min_idx_width, max_idx_width = ftn.findImgWidthDim(mask)\n",
    "mask = mask[:, min_idx_width:max_idx_width+1]\n",
    "mask = cv.resize(mask, (factor*110, height))\n",
    "mask_inv = cv.bitwise_not(mask)\n",
    "\n",
    "\n",
    "\n",
    "#combined image\n",
    "image_combined = np.uint8(np.zeros((height, width, 3)))\n",
    "\n",
    "# omnidirectional image restoration\n",
    "for i in range(21):\n",
    "    \n",
    "    # one omni. image\n",
    "    img_cyl = ftn.cylindricalWarp(colors_left_list[i], K)\n",
    "    img_cyl = img_cyl[:, :,0:3]\n",
    "    img_cyl = img_cyl[:, min_idx_width:max_idx_width+1]\n",
    "    img_cyl= cv.resize(img_cyl, (factor*110, height))\n",
    "    \n",
    "    # pixel movement\n",
    "    angle = angle + rot_angle_list[i]\n",
    "    angle_move = round(factor*angle)\n",
    "    \n",
    "    # restoration\n",
    "    roi = image_combined[:, width-angle_move-factor*110:width-angle_move]\n",
    "    \n",
    "    img_cyl_bg = cv.bitwise_and(roi, roi, mask=mask_inv)\n",
    "    img_cyl_fg = cv.bitwise_and(img_cyl, img_cyl, mask=mask)\n",
    "    dst = cv.add(img_cyl_bg, img_cyl_fg)\n",
    "    \n",
    "    image_combined[:, width-factor*110-angle_move:width-angle_move] = dst\n",
    "\n",
    "image_combined = image_combined[:, 55*factor:width-55*factor]\n",
    "_, w, _ = image_combined.shape\n",
    "dst =  copy.deepcopy(image_combined[:,0:round(w/2)])\n",
    "image_combined[:,0:round(w/2)] = image_combined[:,round(w/2):]\n",
    "image_combined[:,round(w/2):] = dst\n",
    "cv.imwrite('./combined.png', image_combined)\n",
    "\n"
   ]
  },
  {
   "cell_type": "markdown",
   "metadata": {},
   "source": [
    "5. OMNIDIRECTIONAL IMAGE RESTORATION\n",
    "6. OMNIDIRECTIONAL DISTANCE RESTORATION"
   ]
  },
  {
   "cell_type": "code",
   "execution_count": 20,
   "metadata": {},
   "outputs": [
    {
     "name": "stdout",
     "output_type": "stream",
     "text": [
      "Iteration (out of 15) :\n",
      "\t0\n",
      "\t7\n",
      "\t14\n"
     ]
    }
   ],
   "source": [
    "# generate disparity map using Loopy Belief Propagation\n",
    "disp_list = []\n",
    "\n",
    "for i in range(21):\n",
    "\n",
    "    img_left =colors_left_list[i]\n",
    "    img_right=colors_right_list[i]\n",
    "\n",
    "    # Convert as float gray images\n",
    "    img_left=img_left.astype(float)\n",
    "    img_right=img_right.astype(float)\n",
    "\n",
    "    # Gaussian filtering\n",
    "    I1=scipy.ndimage.filters.gaussian_filter(img_left, 0.6)\n",
    "    I2=scipy.ndimage.filters.gaussian_filter(img_right, 0.6)\n",
    "\n",
    "    disparity,energy = disp.stereo_bp(I1,I2,num_disp_values,Lambda, num_iterations=nb_iterations)\n",
    "    \n",
    "    disparity.astype(float)\n",
    "\n",
    "    h, w = disparity.shape\n",
    "    for j in range(h):\n",
    "        for k in range(w):\n",
    "            disparity[j, k] = min(f_x * B / (disparity[j, k] + 1e-8), 30) / 30 * 65535\n",
    "    disparity = np.array(disparity, dtype=np.uint16)\n",
    "    disparity=scipy.ndimage.filters.gaussian_filter(disparity, 0.6)\n",
    "\n",
    "    cv.imwrite('./disparity/disparity_%d.png'%i,disparity)\n",
    "\n",
    "    \n"
   ]
  },
  {
   "cell_type": "code",
   "execution_count": 25,
   "metadata": {},
   "outputs": [],
   "source": [
    "disp_list = []\n",
    "# post-processing\n",
    "for i in range(21):\n",
    "    path = './disparity/disparity_%d.png'%i\n",
    "    disparity = cv.imread(path, -1)\n",
    "    for j in range(640):\n",
    "        for k in range(640):\n",
    "            if disparity[j, k] > 60000:\n",
    "                disparity[j, k] = 25000\n",
    "    disp_list.append(disparity)\n",
    "            \n"
   ]
  },
  {
   "cell_type": "code",
   "execution_count": 27,
   "metadata": {},
   "outputs": [
    {
     "name": "stdout",
     "output_type": "stream",
     "text": [
      "uint16\n"
     ]
    }
   ],
   "source": [
    "factor = 4\n",
    "width = factor*470\n",
    "height = 640\n",
    "angle = 0\n",
    "disp_combined = np.uint16(np.zeros((height, width)))\n",
    "\n",
    "\n",
    "for i in range(21):\n",
    "    \n",
    "    disp_cyl = ftn.cylindricalWarp_disp(disp_list[i], K)\n",
    "    #disp_cyl = disp_cyl[:, :,0:3]\n",
    "    disp_cyl = disp_cyl[:, min_idx_width:max_idx_width+1]\n",
    "    disp_cyl= cv.resize(disp_cyl, (factor*110, height))\n",
    "    \n",
    "    # pixel movement\n",
    "    angle = angle + rot_angle_list[i]\n",
    "    angle_move = round(factor*angle)\n",
    "    \n",
    "    # restoration\n",
    "    roi = disp_combined[:, width-angle_move-factor*110:width-angle_move]\n",
    "    \n",
    "    disp_cyl_bg = cv.bitwise_and(roi, roi, mask=mask_inv)\n",
    "    disp_cyl_fg = cv.bitwise_and(disp_cyl, disp_cyl, mask=mask)\n",
    "    dst = cv.add(disp_cyl_bg, disp_cyl_fg)\n",
    "    disp_combined[:, width-factor*110-angle_move:width-angle_move] = dst\n",
    "\n",
    "disp_combined = disp_combined[:, 55*factor:width-55*factor]\n",
    "_, w = disp_combined.shape\n",
    "dst =  copy.deepcopy(disp_combined[:,0:round(w/2)])\n",
    "disp_combined[:,0:round(w/2)] = disp_combined[:,round(w/2):]\n",
    "disp_combined[:,round(w/2):] = dst\n",
    "cv.imwrite('./disp_combined.png', disp_combined)\n",
    "print(disp_combined.dtype)"
   ]
  },
  {
   "cell_type": "code",
   "execution_count": 29,
   "metadata": {},
   "outputs": [
    {
     "name": "stdout",
     "output_type": "stream",
     "text": [
      "uint16\n"
     ]
    }
   ],
   "source": []
  },
  {
   "cell_type": "markdown",
   "metadata": {},
   "source": [
    "7. SAVE ROTATION ANGLE"
   ]
  },
  {
   "cell_type": "code",
   "execution_count": null,
   "metadata": {},
   "outputs": [],
   "source": [
    "rot_angle_list = rot_angle_list[1:]\n",
    "f = open('./rotation_angle.txt', 'w')\n",
    "for angle in rot_angle_list:\n",
    "    f.write('%f ' % angle)\n",
    "f.close()"
   ]
  }
 ],
 "metadata": {
  "interpreter": {
   "hash": "31f2aee4e71d21fbe5cf8b01ff0e069b9275f58929596ceb00d14d90e3e16cd6"
  },
  "kernelspec": {
   "display_name": "Python 3.6.9 64-bit",
   "language": "python",
   "name": "python3"
  },
  "language_info": {
   "codemirror_mode": {
    "name": "ipython",
    "version": 3
   },
   "file_extension": ".py",
   "mimetype": "text/x-python",
   "name": "python",
   "nbconvert_exporter": "python",
   "pygments_lexer": "ipython3",
   "version": "3.6.9"
  },
  "orig_nbformat": 4
 },
 "nbformat": 4,
 "nbformat_minor": 2
}
